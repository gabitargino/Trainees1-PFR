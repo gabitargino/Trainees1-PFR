{
 "cells": [
  {
   "cell_type": "code",
   "execution_count": 16,
   "metadata": {},
   "outputs": [],
   "source": [
    "from pandas import read_csv\n",
    "from datetime import datetime, timedelta\n",
    "import matplotlib.pyplot as plt"
   ]
  },
  {
   "cell_type": "code",
   "execution_count": 21,
   "metadata": {},
   "outputs": [
    {
     "name": "stderr",
     "output_type": "stream",
     "text": [
      "<>:1: SyntaxWarning: invalid escape sequence '\\d'\n",
      "<>:1: SyntaxWarning: invalid escape sequence '\\d'\n",
      "C:\\Users\\user\\AppData\\Local\\Temp\\ipykernel_20708\\1617964102.py:1: SyntaxWarning: invalid escape sequence '\\d'\n",
      "  data_path = '..\\data\\dados_processados\\liver_cirrhosis_v1.csv'\n"
     ]
    }
   ],
   "source": [
    "# Caminho dos Dados para EDA\n",
    "data_path = '..\\data\\dados_processados\\liver_cirrhosis_v1.csv'"
   ]
  },
  {
   "cell_type": "code",
   "execution_count": 8,
   "metadata": {},
   "outputs": [],
   "source": [
    "df = read_csv(data_path)"
   ]
  },
  {
   "cell_type": "code",
   "execution_count": 12,
   "metadata": {},
   "outputs": [
    {
     "data": {
      "text/plain": [
       "['Numero_dias',\n",
       " 'Idade',\n",
       " 'Bilirrubina(mg/dl)',\n",
       " 'Colesterol(mg/dl)',\n",
       " 'Albumina(gm/dl)',\n",
       " 'Cobre_Urina(ug/dia)',\n",
       " 'Fosfatase_Alcalina (U/L)',\n",
       " 'Aspartato_Aminotransferase(U/L)',\n",
       " 'Triglicerídeos(mg/dl)',\n",
       " 'Plaquetas(ml/1000)',\n",
       " 'Tempo_de_Protrombina(s)',\n",
       " 'Estágio']"
      ]
     },
     "execution_count": 12,
     "metadata": {},
     "output_type": "execute_result"
    }
   ],
   "source": [
    "# Colunas numéricas\n",
    "\n",
    "list(df.describe().columns)"
   ]
  },
  {
   "cell_type": "code",
   "execution_count": 18,
   "metadata": {},
   "outputs": [],
   "source": [
    "def days_to_year(days) -> int:\n",
    "    \n",
    "    start = datetime.now() - timedelta(days=days)\n",
    "    years = datetime.now().year - start.year\n",
    "\n",
    "    return years"
   ]
  },
  {
   "cell_type": "code",
   "execution_count": 19,
   "metadata": {},
   "outputs": [
    {
     "data": {
      "text/plain": [
       "0       51\n",
       "1       54\n",
       "2       33\n",
       "3       45\n",
       "4       60\n",
       "        ..\n",
       "9632    49\n",
       "9633    64\n",
       "9634    67\n",
       "9635    58\n",
       "9636    79\n",
       "Name: Idade, Length: 9637, dtype: int64"
      ]
     },
     "execution_count": 19,
     "metadata": {},
     "output_type": "execute_result"
    }
   ],
   "source": [
    "df['Idade'].apply(days_to_year)"
   ]
  },
  {
   "cell_type": "code",
   "execution_count": null,
   "metadata": {},
   "outputs": [],
   "source": []
  }
 ],
 "metadata": {
  "kernelspec": {
   "display_name": "Python 3",
   "language": "python",
   "name": "python3"
  },
  "language_info": {
   "codemirror_mode": {
    "name": "ipython",
    "version": 3
   },
   "file_extension": ".py",
   "mimetype": "text/x-python",
   "name": "python",
   "nbconvert_exporter": "python",
   "pygments_lexer": "ipython3",
   "version": "3.12.1"
  }
 },
 "nbformat": 4,
 "nbformat_minor": 2
}
